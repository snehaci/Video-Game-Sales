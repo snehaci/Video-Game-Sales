{
 "cells": [
  {
   "cell_type": "markdown",
   "id": "3aad7954",
   "metadata": {},
   "source": [
    "# TASK 2"
   ]
  },
  {
   "cell_type": "code",
   "execution_count": 1,
   "id": "d4a8fd50",
   "metadata": {},
   "outputs": [
    {
     "name": "stdout",
     "output_type": "stream",
     "text": [
      "   index  Rank         Game Title Platform    Year     Genre Publisher  \\\n",
      "0      0     1         Wii Sports      Wii  2006.0    Sports  Nintendo   \n",
      "1      1     2  Super Mario Bros.      NES  1985.0  Platform  Nintendo   \n",
      "2      2     3     Mario Kart Wii      Wii  2008.0    Racing  Nintendo   \n",
      "3      3     4  Wii Sports Resort      Wii  2009.0    Sports  Nintendo   \n",
      "4      4     5             Tetris       GB  1989.0    Puzzle  Nintendo   \n",
      "\n",
      "   North America  Europe  Japan  Rest of World  Global  Review  \n",
      "0          40.43   28.39   3.77           8.54   81.12   76.28  \n",
      "1          29.08    3.58   6.81           0.77   40.24   91.00  \n",
      "2          14.50   12.22   3.63           3.21   33.55   82.07  \n",
      "3          14.82   10.51   3.18           3.01   31.52   82.65  \n",
      "4          23.20    2.26   4.22           0.58   30.26   88.00  \n"
     ]
    }
   ],
   "source": [
    "# 1) Import Libraries and Load Dataset\n",
    "import numpy as np\n",
    "import pandas as pd\n",
    "import matplotlib.pyplot as plt\n",
    "import seaborn as sns\n",
    "\n",
    "auto = pd.read_csv('C:/Users/sneha/Downloads/Video Games Sales.csv')\n",
    "\n",
    "print(auto.head())\n"
   ]
  },
  {
   "cell_type": "code",
   "execution_count": 6,
   "id": "8a7844d7",
   "metadata": {},
   "outputs": [
    {
     "name": "stdout",
     "output_type": "stream",
     "text": [
      "      index  Rank                        Game Title Platform    Year  \\\n",
      "0         0     1                        Wii Sports      Wii  2006.0   \n",
      "1         1     2                 Super Mario Bros.      NES  1985.0   \n",
      "2         2     3                    Mario Kart Wii      Wii  2008.0   \n",
      "3         3     4                 Wii Sports Resort      Wii  2009.0   \n",
      "4         4     5                            Tetris       GB  1989.0   \n",
      "...     ...   ...                               ...      ...     ...   \n",
      "1902   1902  1903  Lizzie McGuire 2: Lizzie Diaries      GBA  2004.0   \n",
      "1903   1903  1904              Xenoblade Chronicles      Wii  2010.0   \n",
      "1904   1904  1905                     SingStar Abba      PS3  2008.0   \n",
      "1905   1905  1906    FIFA Soccer World Championship      PS2  2000.0   \n",
      "1906   1906  1907        WWE SmackDown vs. Raw 2011     X360  2010.0   \n",
      "\n",
      "             Genre                    Publisher  North America  Europe  Japan  \\\n",
      "0           Sports                     Nintendo          40.43   28.39   3.77   \n",
      "1         Platform                     Nintendo          29.08    3.58   6.81   \n",
      "2           Racing                     Nintendo          14.50   12.22   3.63   \n",
      "3           Sports                     Nintendo          14.82   10.51   3.18   \n",
      "4           Puzzle                     Nintendo          23.20    2.26   4.22   \n",
      "...            ...                          ...            ...     ...    ...   \n",
      "1902        Action   Disney Interactive Studios           0.60    0.22   0.00   \n",
      "1903  Role-Playing                     Nintendo           0.39    0.22   0.16   \n",
      "1904          Misc  Sony Computer Entertainment           0.25    0.44   0.00   \n",
      "1905        Sports              Electronic Arts           0.27    0.21   0.28   \n",
      "1906      Fighting                          THQ           0.42    0.32   0.00   \n",
      "\n",
      "      Rest of World  Global  Review  \n",
      "0              8.54   81.12   76.28  \n",
      "1              0.77   40.24   91.00  \n",
      "2              3.21   33.55   82.07  \n",
      "3              3.01   31.52   82.65  \n",
      "4              0.58   30.26   88.00  \n",
      "...             ...     ...     ...  \n",
      "1902           0.01    0.83   55.00  \n",
      "1903           0.07    0.83   91.74  \n",
      "1904           0.14    0.83   73.00  \n",
      "1905           0.07    0.83   73.00  \n",
      "1906           0.09    0.83   82.00  \n",
      "\n",
      "[1907 rows x 13 columns]\n",
      "1\n"
     ]
    }
   ],
   "source": [
    "\n",
    "\n",
    "df = pd.DataFrame(auto)\n",
    " \n",
    "# show the dataframe\n",
    "print(df)\n",
    " \n",
    "# list of values of 'Marks' column\n",
    "marks_list = df['Rank'].tolist()\n",
    " \n",
    "# show the list\n",
    "print(min(marks_list))"
   ]
  },
  {
   "cell_type": "markdown",
   "id": "b5bc100d",
   "metadata": {},
   "source": [
    "# To find the successful game based on first Rank"
   ]
  },
  {
   "cell_type": "code",
   "execution_count": 8,
   "id": "69c504d9",
   "metadata": {},
   "outputs": [
    {
     "name": "stdout",
     "output_type": "stream",
     "text": [
      "0    Wii Sports\n",
      "Name: Game Title, dtype: object\n"
     ]
    }
   ],
   "source": [
    "df2=df.query('Rank == 1')['Game Title']\n",
    "print(df2)"
   ]
  },
  {
   "cell_type": "markdown",
   "id": "75167009",
   "metadata": {},
   "source": [
    "# To find the highest Global Rating and Highest Review"
   ]
  },
  {
   "cell_type": "code",
   "execution_count": 12,
   "id": "de402b94",
   "metadata": {},
   "outputs": [
    {
     "name": "stdout",
     "output_type": "stream",
     "text": [
      "81.12\n",
      "97.0\n"
     ]
    }
   ],
   "source": [
    "print(max(auto['Global']))\n",
    "print(max(auto['Review']))\n"
   ]
  },
  {
   "cell_type": "code",
   "execution_count": 16,
   "id": "a0de0675",
   "metadata": {},
   "outputs": [],
   "source": [
    "# Assigning the values to k and m\n",
    "k = max(auto['Global'])\n",
    "m = max(auto['Review'])"
   ]
  },
  {
   "cell_type": "markdown",
   "id": "8e5b6013",
   "metadata": {},
   "source": [
    "# Based on Review 'de Blob' is the best game"
   ]
  },
  {
   "cell_type": "code",
   "execution_count": 21,
   "id": "1c0ed3e1",
   "metadata": {},
   "outputs": [
    {
     "name": "stdout",
     "output_type": "stream",
     "text": [
      "1748    de Blob\n",
      "Name: Game Title, dtype: object\n"
     ]
    }
   ],
   "source": [
    "df2=df.loc[df['Review'] == k, 'Game Title']\n",
    "print(df2)"
   ]
  },
  {
   "cell_type": "markdown",
   "id": "edce7526",
   "metadata": {},
   "source": [
    "# Based on Rank 'Wii sports' is the best game"
   ]
  },
  {
   "cell_type": "code",
   "execution_count": 25,
   "id": "fd59bb82",
   "metadata": {},
   "outputs": [
    {
     "name": "stdout",
     "output_type": "stream",
     "text": [
      "0    Wii Sports\n",
      "Name: Game Title, dtype: object\n"
     ]
    }
   ],
   "source": [
    "df2=df.loc[df['Rank'] == 1, 'Game Title']\n",
    "print(df2)"
   ]
  }
 ],
 "metadata": {
  "kernelspec": {
   "display_name": "Python 3 (ipykernel)",
   "language": "python",
   "name": "python3"
  },
  "language_info": {
   "codemirror_mode": {
    "name": "ipython",
    "version": 3
   },
   "file_extension": ".py",
   "mimetype": "text/x-python",
   "name": "python",
   "nbconvert_exporter": "python",
   "pygments_lexer": "ipython3",
   "version": "3.10.2"
  }
 },
 "nbformat": 4,
 "nbformat_minor": 5
}
